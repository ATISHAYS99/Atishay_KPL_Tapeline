{
 "cells": [
  {
   "cell_type": "code",
   "execution_count": 1,
   "metadata": {},
   "outputs": [
    {
     "name": "stdout",
     "output_type": "stream",
     "text": [
      "Connection Successfully established!!\n"
     ]
    }
   ],
   "source": [
    "import pandas as pd\n",
    "import matplotlib.pyplot as plt\n",
    "import numpy as np\n",
    "import seaborn as sns\n",
    "import datetime\n",
    "from datetime import date\n",
    "from datetime import timedelta\n",
    "from datetime import datetime\n",
    "import warnings\n",
    "warnings.filterwarnings('ignore')\n",
    "import math \n",
    "import re\n",
    "import pyodbc\n",
    "from datetime import datetime\n",
    "from sqlalchemy import create_engine, MetaData\n",
    "import sqlalchemy as db\n",
    "import urllib\n",
    "\n",
    "pyodbc.drivers()\n",
    "server = \"120.120.120.145\"\n",
    "database = \"Algo8\"\n",
    "username = \"kamransultan\"\n",
    "password = \"sul@888tan\"\n",
    "\n",
    "params = urllib.parse.quote_plus(\n",
    "'DRIVER={ODBC Driver 17 for SQL Server};'+\n",
    "'SERVER='+server+';DATABASE='+database+';UID='+username+';PWD='+ password)\n",
    "engine = create_engine(\"mssql+pyodbc:///?odbc_connect=%s\" % params)\n",
    "\n",
    "#Definig connection \n",
    "try:      \n",
    "    conx = pyodbc.connect('DRIVER={ODBC Driver 17 for SQL Server}; SERVER=120.120.120.145; Database=Algo8; UID=kamransultan; PWD=sul@888tan;')\n",
    "    print(\"Connection Successfully established!!\")\n",
    "except Exception as e:\n",
    "    print(e)\n",
    "    print('Connection not established')\n"
   ]
  },
  {
   "cell_type": "code",
   "execution_count": 2,
   "metadata": {},
   "outputs": [
    {
     "data": {
      "text/plain": [
       "Engine(mssql+pyodbc:///?odbc_connect=DRIVER%3D%7BODBC+Driver+17+for+SQL+Server%7D%3BSERVER%3D120.120.120.145%3BDATABASE%3DAlgo8%3BUID%3Dkamransultan%3BPWD%3Dsul%40888tan)"
      ]
     },
     "execution_count": 2,
     "metadata": {},
     "output_type": "execute_result"
    }
   ],
   "source": [
    "engine"
   ]
  },
  {
   "cell_type": "code",
   "execution_count": 3,
   "metadata": {},
   "outputs": [
    {
     "name": "stdout",
     "output_type": "stream",
     "text": [
      "<class 'pandas.core.frame.DataFrame'>\n",
      "RangeIndex: 559 entries, 0 to 558\n",
      "Data columns (total 32 columns):\n",
      " #   Column                             Non-Null Count  Dtype         \n",
      "---  ------                             --------------  -----         \n",
      " 0   TapeId                             559 non-null    int64         \n",
      " 1   FabricId                           559 non-null    int64         \n",
      " 2   Tape_Target_Date                   559 non-null    datetime64[ns]\n",
      " 3   Loom_Location                      559 non-null    object        \n",
      " 4   LoomNo                             559 non-null    int64         \n",
      " 5   LoomType                           559 non-null    object        \n",
      " 6   Tape_name                          559 non-null    object        \n",
      " 7   TapePropertyName                   559 non-null    object        \n",
      " 8   Total_Demand                       559 non-null    float64       \n",
      " 9   Initial_Demand                     559 non-null    float64       \n",
      " 10  Inventory_Utilised                 559 non-null    float64       \n",
      " 11  Tape(Kg)                           559 non-null    float64       \n",
      " 12  Weft_Demand                        559 non-null    float64       \n",
      " 13  Warp_Demand                        559 non-null    float64       \n",
      " 14  Warp_rf_Demand                     559 non-null    float64       \n",
      " 15  Tape_Load                          559 non-null    float64       \n",
      " 16  Tape_Unload                        559 non-null    float64       \n",
      " 17  Production capacity per day(Mtrs)  559 non-null    int64         \n",
      " 18  ULFabricBalanceToMake(Mtrs)        559 non-null    int64         \n",
      " 19  PreLogic_FinalFactor               559 non-null    int64         \n",
      " 20  Demand_Source                      559 non-null    object        \n",
      " 21  MaterialId                         559 non-null    int64         \n",
      " 22  TapeFiller                         559 non-null    int64         \n",
      " 23  TapeRP                             559 non-null    float64       \n",
      " 24  TapeWidth                          559 non-null    object        \n",
      " 25  TapeColour                         559 non-null    object        \n",
      " 26  TapeDenier                         559 non-null    int64         \n",
      " 27  TapeMarking                        405 non-null    object        \n",
      " 28  FabricWarpMesh                     559 non-null    float64       \n",
      " 29  Tape_Denier                        559 non-null    object        \n",
      " 30  TapeUv                             559 non-null    int64         \n",
      " 31  RPTAPE                             559 non-null    int64         \n",
      "dtypes: datetime64[ns](1), float64(11), int64(11), object(9)\n",
      "memory usage: 139.9+ KB\n"
     ]
    }
   ],
   "source": [
    "demand = pd.read_excel(\"C:/Users/ATISHAY/Desktop/KPL_Tapeline/Demand_final.xlsx\",index_col=False)\n",
    "demand.info()"
   ]
  },
  {
   "cell_type": "code",
   "execution_count": 4,
   "metadata": {},
   "outputs": [],
   "source": [
    "#demand.to_sql(name = 'Algo8_Tapeline_Demand', con = engine, if_exists='append', index=False)"
   ]
  },
  {
   "cell_type": "code",
   "execution_count": 5,
   "metadata": {},
   "outputs": [],
   "source": [
    "import datetime \n",
    "from datetime import datetime"
   ]
  },
  {
   "cell_type": "code",
   "execution_count": 11,
   "metadata": {},
   "outputs": [],
   "source": [
    "schedule = pd.read_excel(\"C:/Users/ATISHAY/Desktop/KPL_Tapeline/SCHEDULE.xlsx\",index_col=False)\n",
    "non_schedule = pd.read_excel(\"C:/Users/ATISHAY/Desktop/KPL_Tapeline/NON-SCHEDULE.xlsx\",index_col=False)"
   ]
  },
  {
   "cell_type": "code",
   "execution_count": 12,
   "metadata": {},
   "outputs": [],
   "source": [
    "schedule['AuditDateTime'] = datetime.now()\n",
    "non_schedule['AuditDateTime'] = datetime.now()"
   ]
  },
  {
   "cell_type": "code",
   "execution_count": 13,
   "metadata": {},
   "outputs": [
    {
     "name": "stdout",
     "output_type": "stream",
     "text": [
      "<class 'pandas.core.frame.DataFrame'>\n",
      "RangeIndex: 7 entries, 0 to 6\n",
      "Data columns (total 28 columns):\n",
      " #   Column                Non-Null Count  Dtype         \n",
      "---  ------                --------------  -----         \n",
      " 0   TapeId                7 non-null      int64         \n",
      " 1   FabricId              7 non-null      int64         \n",
      " 2   Tape_Completion_date  7 non-null      datetime64[ns]\n",
      " 3   Loom_Location         7 non-null      object        \n",
      " 4   LoomNo                7 non-null      int64         \n",
      " 5   LoomType              7 non-null      object        \n",
      " 6   Tape_name             7 non-null      object        \n",
      " 7   TapePropertyName      7 non-null      object        \n",
      " 8   Total_Demand          7 non-null      float64       \n",
      " 9   Initial_Demand        7 non-null      float64       \n",
      " 10  Inventory_Utilised    7 non-null      int64         \n",
      " 11  Weft_Demand           7 non-null      float64       \n",
      " 12  Warp_Demand           7 non-null      float64       \n",
      " 13  Warp_rf_Demand        7 non-null      int64         \n",
      " 14  PreLogic_FinalFactor  7 non-null      int64         \n",
      " 15  MaterialId            7 non-null      int64         \n",
      " 16  TapeFiller            7 non-null      int64         \n",
      " 17  TapeRP                7 non-null      int64         \n",
      " 18  TapeWidth             7 non-null      object        \n",
      " 19  TapeColour            7 non-null      object        \n",
      " 20  TapeDenier            7 non-null      int64         \n",
      " 21  TapeMarking           5 non-null      object        \n",
      " 22  FabricWarpMesh        7 non-null      float64       \n",
      " 23  Tape_Denier           7 non-null      object        \n",
      " 24  TapeUv                7 non-null      int64         \n",
      " 25  RPTAPE                7 non-null      int64         \n",
      " 26  Reason                7 non-null      object        \n",
      " 27  AuditDateTime         7 non-null      datetime64[ns]\n",
      "dtypes: datetime64[ns](2), float64(5), int64(12), object(9)\n",
      "memory usage: 1.7+ KB\n"
     ]
    }
   ],
   "source": [
    "non_schedule.info()"
   ]
  },
  {
   "cell_type": "code",
   "execution_count": 14,
   "metadata": {},
   "outputs": [
    {
     "name": "stdout",
     "output_type": "stream",
     "text": [
      "<class 'pandas.core.frame.DataFrame'>\n",
      "RangeIndex: 434 entries, 0 to 433\n",
      "Data columns (total 33 columns):\n",
      " #   Column                                   Non-Null Count  Dtype         \n",
      "---  ------                                   --------------  -----         \n",
      " 0   Prev_Tape_Id                             434 non-null    int64         \n",
      " 1   Prev_Tape_name                           434 non-null    object        \n",
      " 2   Prev_Tape_Denier                         434 non-null    int64         \n",
      " 3   Prev_Tape_Colour                         434 non-null    object        \n",
      " 4   Tape_id                                  434 non-null    int64         \n",
      " 5   Tape_name                                434 non-null    object        \n",
      " 6   TapePropertyName                         434 non-null    object        \n",
      " 7   Tape_Denier                              434 non-null    int64         \n",
      " 8   TapeColour                               434 non-null    object        \n",
      " 9   TapeMarking                              311 non-null    object        \n",
      " 10  Total_Demand                             434 non-null    float64       \n",
      " 11  Weft_demand                              434 non-null    float64       \n",
      " 12  Warp_Demand                              434 non-null    float64       \n",
      " 13  Warp_rf_Demand                           434 non-null    float64       \n",
      " 14  Tape_demand + Production loss + Wastage  434 non-null    float64       \n",
      " 15  Target_date                              434 non-null    datetime64[ns]\n",
      " 16  Machine                                  434 non-null    object        \n",
      " 17  Plant_Location                           434 non-null    object        \n",
      " 18  LoomNo                                   434 non-null    int64         \n",
      " 19  LoomType                                 434 non-null    object        \n",
      " 20  PreLogic_FinalFactor                     434 non-null    int64         \n",
      " 21  TapeDenier_Change_Starttime              434 non-null    object        \n",
      " 22  TapeDenier_Change_Endtime                434 non-null    object        \n",
      " 23  Recipe_change_Starttime                  434 non-null    object        \n",
      " 24  Recipe_change_Endtime                    434 non-null    object        \n",
      " 25  Prod_Start_Time                          434 non-null    datetime64[ns]\n",
      " 26  Prod_End_time                            434 non-null    datetime64[ns]\n",
      " 27  Plan no.                                 434 non-null    object        \n",
      " 28  Type of Changeover                       434 non-null    object        \n",
      " 29  Production_loss (kg)                     434 non-null    int64         \n",
      " 30  Wastage (kg)                             434 non-null    int64         \n",
      " 31  Man power loss (Rs)                      434 non-null    int64         \n",
      " 32  AuditDateTime                            434 non-null    datetime64[ns]\n",
      "dtypes: datetime64[ns](4), float64(5), int64(9), object(15)\n",
      "memory usage: 112.0+ KB\n"
     ]
    }
   ],
   "source": [
    "schedule.info()"
   ]
  },
  {
   "cell_type": "code",
   "execution_count": 16,
   "metadata": {},
   "outputs": [
    {
     "data": {
      "text/plain": [
       "56"
      ]
     },
     "execution_count": 16,
     "metadata": {},
     "output_type": "execute_result"
    }
   ],
   "source": [
    "schedule.to_sql(name = 'Algo8_Tapeline_Schedule', con = engine, if_exists='append', index=False)\n",
    "#non_schedule.to_sql(name = 'Algo8_Tapeline_Not_Schedule', con = engine, if_exists='append', index=False)"
   ]
  },
  {
   "cell_type": "code",
   "execution_count": 17,
   "metadata": {},
   "outputs": [
    {
     "name": "stdout",
     "output_type": "stream",
     "text": [
      "False\n"
     ]
    }
   ],
   "source": [
    "print(conx.autocommit)"
   ]
  }
 ],
 "metadata": {
  "kernelspec": {
   "display_name": "Python 3",
   "language": "python",
   "name": "python3"
  },
  "language_info": {
   "codemirror_mode": {
    "name": "ipython",
    "version": 3
   },
   "file_extension": ".py",
   "mimetype": "text/x-python",
   "name": "python",
   "nbconvert_exporter": "python",
   "pygments_lexer": "ipython3",
   "version": "3.8.6"
  },
  "orig_nbformat": 4
 },
 "nbformat": 4,
 "nbformat_minor": 2
}
